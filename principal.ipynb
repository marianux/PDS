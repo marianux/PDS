{
 "cells": [
  {
   "cell_type": "markdown",
   "metadata": {},
   "source": [
    "# Procesamiento Digital de Señales   <img src=\"./logo_UTN.svg\" align=\"right\" width=\"150\" /> \n",
    "\n",
    "#### Dr. Mariano Llamedo Soria\n"
   ]
  },
  {
   "cell_type": "markdown",
   "metadata": {},
   "source": [
    "## Documento principal\n",
    "\n",
    "Este documento agrupa todos los materiales disponibles para el curso de *Procesamiento Digital de Señales*.\n",
    "\n",
    "* [Presentación y cuestiones administrativas](presentacion.ipynb)\n",
    "* [Preparación del entorno de trabajo](preparacion.ipynb)\n",
    "\n",
    "* [Campus virtual](https://aulasvirtuales.frba.utn.edu.ar/course/view.php?id=9591)\n",
    "\n",
    "* [Formulario de métricas semanales](https://docs.google.com/forms/d/e/1FAIpQLSdiR5BPddr3fuiHb_Bp7_AFRLfuFGUGfuW0VOB9HdRQPSTfaw/viewform?usp=sf_link)\n",
    "\n",
    "* [Chat del curso](https://mail.google.com/chat/u/1/#chat/space/AAAAw_r33Cs)\n",
    "\n",
    "* [Tutoriales y primeros experimentos]()\n",
    "* [Trabajos prácticos]()\n"
   ]
  }
 ],
 "metadata": {
  "kernelspec": {
   "display_name": "Python 3 (ipykernel)",
   "language": "python",
   "name": "python3"
  },
  "language_info": {
   "codemirror_mode": {
    "name": "ipython",
    "version": 3
   },
   "file_extension": ".py",
   "mimetype": "text/x-python",
   "name": "python",
   "nbconvert_exporter": "python",
   "pygments_lexer": "ipython3",
   "version": "3.8.10"
  }
 },
 "nbformat": 4,
 "nbformat_minor": 2
}
