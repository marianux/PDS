{
 "cells": [
  {
   "cell_type": "markdown",
   "metadata": {},
   "source": [
    "# Procesamiento Digital de Señales   <img src=\"./logo_UTN.svg\" align=\"right\" width=\"150\" /> \n",
    "\n",
    "#### Dr. Mariano Llamedo Soria\n"
   ]
  },
  {
   "cell_type": "markdown",
   "metadata": {},
   "source": [
    "## Cuestiones administrativas\n",
    "\n",
    "#### Bienvenida\n",
    "\n",
    "Bienvenidxs al curso de Procesamiento Digital de Señales. En esta asignatura optativa del 6to. nivel de la carrera de Ingeniería Electrónica se estudian metodologías para el procesamiento y análisis de señales digitales. Los grandes temas del curso son la **estimación espectral** y el **filtrado** de señales. Algunos otros temas abordados tienen que ver con el análisis estadístico, el procesamiento no lineal y las técnicas multirate.\n",
    "\n",
    "En el campus del curso, están disponibles los recursos que utilizamos durante las clases, como las presentaciones, las guías de trabajos prácticos y algunos otros recursos didácticos y apuntes de otros docentes.\n",
    "\n",
    "Las clases por lo general tienen una introducción teórica, seguido por alguna ejercitación que facilite la comprensión de los temas, y que por lo general es parte de algún trabajo práctico. Los aspectos prácticos pretenden ser un aspecto distintivo del curso, intentando dar a los estudiantes herramientas prácticas para sus proyectos, sin renunciar a profundizar en aspectos teóricos que ayuden a la comprensión de los temas. Por lo general las demostraciones teóricas se dejan como referencias a la bibliografía para los estudiantes más interesados.\n",
    "\n",
    "#### Bibliografía\n",
    "\n",
    "[La bibliografía](https://drive.google.com/drive/folders/1dmispiI0L6KBtFMsoek3vWkw_fFwwAXR?usp=sharing) está segmentada para estudiantes de diferentes niveles de conocimientos y perfiles. Es lo suficientemente diversa y amplia para un curso cuatrimestral de especialización. Sirve para iniciar a aquellos estudiantes que comienzan en el procesamiento digital, como también para produndizar a aquellos que ya tengan cierta experiencia y quieran profundizar, o iniciarse en el procesamiento estadístico.\n",
    "\n",
    "Primera Lectura\n",
    "\n",
    "* Ifeachor, E , Jervis, B. Digital Signal Processing: A Practical Approach, Prentice Hall.\n",
    "* Lyons, R. Understanding Digital Signal Processing. Prentice Hall.\n",
    "* Steven M. Kay. Intuitive Probability and Random Processes Using MatLab. Springer.\n",
    "\n",
    "Algo más avanzados:\n",
    "\n",
    "* Boaz Porat, A Course in Digital Signal Processing, John Wiley & Sons.\n",
    "* Hayes, M. Statistical Digital Signal Processing and Modeling. Wiley.\n",
    "* Laguna, P, Sornmo, L. Bioelectrical Signal Processing in Cardiac and Neurological Applications. Elsevier.\n",
    "\n",
    "\n",
    "#### Herramientas de simulación\n",
    "\n",
    "Las herramientas informáticas utilizadas en la asignatura pretenden ser de acceso libre:\n",
    "\n",
    "* [Python](https://www.python.org/downloads/) como lenguaje y sus módulos para:\n",
    "    - Formatos numéricos y manejo de matrices y tipos de datos: [NumPy](https://numpy.org/install/)\n",
    "    - DSP: [SciPy Signal](https://www.scipy.org/install.html)\n",
    "    - Visualización: [Matplotlib Pyplot](https://matplotlib.org/stable/users/installing.html)\n",
    "\n",
    "* El ambiente de desarrollo (IDE) [Spyder](https://www.spyder-ide.org/)\n",
    "* [Jupyter Notebook](https://jupyter.org/install) (NB) ó LaTex para la presentación de TPs\n",
    "* [NBviewer](https://nbviewer.jupyter.org/) como presentador o proyector de NB.\n",
    " \n",
    "acorde al carácter público de la UTN. Sin embargo, se aceptan (👎**aunque no se aconsejan**👎) trabajos en software privativo del estilo Matlab, MS Officce, etc.\n",
    "\n",
    "\n",
    "#### Aprobación\n",
    "\n",
    "La cursada se aprueba mediante la presentación de trabajos prácticos y la aprobación un exámen de conocimientos teórico/prácticos.\n",
    "\n",
    "La asignatura se aprueba mediante UNA de las siguientes alternativas\n",
    "\n",
    "* un exámen final integrador,\n",
    "* ó la defensa de un trabajo final integrador.\n",
    "\n",
    "Aquellos estudiantes que elijan la opción del trabajo final, deben:\n",
    "\n",
    "1. acordar el tema con el docente\n",
    "2. realizar al menos una reunión de seguimiento\n",
    "3. acordar la aprobación del trabajo en alguna reunión de seguimiento\n",
    "4. anotarse al exámen final en la fecha prevista por el calendario académico\n",
    "\n",
    "Pueden consultar la siguiente carpeta con trabajos seleccionados que se presentaron.\n",
    "\n",
    "La posibilidad de **promoción** estará prevista para aquellos estudiantes que:\n",
    "\n",
    "* Realicen los trabajos prácticos en tiempo y con **calificación mayor o igual a 8**.\n",
    "* Aprueben el examen parcial con nota **superior a 8**.\n"
   ]
  },
  {
   "cell_type": "markdown",
   "metadata": {},
   "source": [
    "# Primeros trabajos\n",
    "\n",
    "Se sugiere a todxs lxs estudiantes tener listo durante la primer semana el ambiente de trabajo:\n",
    "\n",
    "* Spyder\n",
    "* Jupyter notebook\n",
    "* El gestor de repositorios [Git](https://git-scm.com/downloads)\n",
    "* Una [cuenta en Github](https://github.com/), donde crearás una carpeta/repositorio a través del cual presentarás tus trabajos.\n",
    "\n",
    "Luego\n",
    "\n",
    "1. Clonarse [el repositorio de la asignatura]()\n",
    "2. Hacer lo siguiente\n",
    "3. Y esto otro ...\n",
    "\n"
   ]
  }
 ],
 "metadata": {
  "kernelspec": {
   "display_name": "Python 3 (ipykernel)",
   "language": "python",
   "name": "python3"
  },
  "language_info": {
   "codemirror_mode": {
    "name": "ipython",
    "version": 3
   },
   "file_extension": ".py",
   "mimetype": "text/x-python",
   "name": "python",
   "nbconvert_exporter": "python",
   "pygments_lexer": "ipython3",
   "version": "3.8.10"
  }
 },
 "nbformat": 4,
 "nbformat_minor": 2
}
